{
 "cells": [
  {
   "cell_type": "code",
   "execution_count": 28,
   "metadata": {},
   "outputs": [
    {
     "name": "stdout",
     "output_type": "stream",
     "text": [
      "Complex Roots\n",
      "-1.0  + i 28.284271247461902\n",
      "-1.0  - i 28.284271247461902\n",
      "\n"
     ]
    }
   ],
   "source": [
    "\n",
    "\n",
    "import math \n",
    "def equationroots( a, b, c):\n",
    "    dis = b * b - 4 * a * c \n",
    "    sqrt_val = math.sqrt(abs(dis)) \n",
    "    \n",
    "    if dis > 0: \n",
    "        print(\" real and different roots \") \n",
    "        print((-b + sqrt_val)/(2 * a))\n",
    "        x= (-b + sqrt_val)/(2 * a)\n",
    "        \n",
    "        print((-b - sqrt_val)/(2 * a))\n",
    "        y= (-b - sqrt_val)/(2 * a)\n",
    "        \n",
    "        file.write(\"roots are:x \" +str(x))\n",
    "        file.write(\"\\n\")\n",
    "        file.write(\"roots are:y \" +str(y))\n",
    "        file.write(\"\\n\")\n",
    "\n",
    "    elif dis == 0: \n",
    "        print(\" real and same roots\") \n",
    "        print(-b / (2 * a))\n",
    "        x=-b / (2 * a)\n",
    "        file.write(\"roots are:x \" +str(x))\n",
    "        file.write(\"\\n\")\n",
    "\n",
    "\n",
    "    else: \n",
    "        print(\"Complex Roots\") \n",
    "        print(- b / (2 * a), \" + i\", sqrt_val) \n",
    "        x=- b / (2 * a), \" + i\", sqrt_val\n",
    "        \n",
    "        print(- b / (2 * a), \" - i\", sqrt_val) \n",
    "        y=- b / (2 * a), \" i i\", sqrt_val\n",
    "        file.write(\"roots are:x \" +str(x))\n",
    "        file.write(\"\\n\")\n",
    "        file.write(\"roots are:y \" +str(y))\n",
    "\n",
    "file = open('values.txt','r+')\n",
    "fields=[]\n",
    "for line in file:\n",
    "    fields = line.strip().split()\n",
    "    a=int(fields[0])\n",
    "    b=int(fields[1])\n",
    "    c=int(fields[2])\n",
    "    equationroots(a,b,c)\n",
    "    print()"
   ]
  },
  {
   "cell_type": "code",
   "execution_count": null,
   "metadata": {},
   "outputs": [],
   "source": []
  }
 ],
 "metadata": {
  "kernelspec": {
   "display_name": "Python 3",
   "language": "python",
   "name": "python3"
  },
  "language_info": {
   "codemirror_mode": {
    "name": "ipython",
    "version": 3
   },
   "file_extension": ".py",
   "mimetype": "text/x-python",
   "name": "python",
   "nbconvert_exporter": "python",
   "pygments_lexer": "ipython3",
   "version": "3.7.4"
  }
 },
 "nbformat": 4,
 "nbformat_minor": 2
}
